{
 "cells": [
  {
   "cell_type": "markdown",
   "id": "52c24cab-62c7-43d3-adfc-acd87b20dfc5",
   "metadata": {},
   "source": [
    "### Chapter 2\n",
    "\n",
    "- 2.2 Impossibility Results"
   ]
  },
  {
   "cell_type": "markdown",
   "id": "90eb4323-da36-48b7-9c01-db57781471ab",
   "metadata": {},
   "source": [
    "#### Theorem 1 (Impossibility of perfect fairness). \n",
    "- if $\\mathbb{E}[V_{0}]$ $\\neq$ $\\mathbb{E}[V_{1}]$, then it is impossible to achieve 1-fairness in price, demend, surplus, and no-purchased valuation all simultaneously.\n",
    "\n",
    "#### Proposition 1 (Impossibility for Linear and Exponential Demend)\n",
    "- a. Exponential: That is, $V_{i} \\sim Exp(\\lambda_{i})$, wtih $\\lambda_{0} \\neq \\lambda_{1}$. then any pair of 1-fairness in price, demend, surplus, and no-purchase valuation cannot coexist under positive prices.\n",
    "- b. Linear: That is, $V_{i} \\sim U(0, b_{i})$ with $b_{0} \\neq b_1$. Then, only 1-fairness in price and no-purchase valuation may coexist, and any other pair of 1-fairness in price, demand, surplus, and no-purchase valuation cannot coexist under positive prices and positive demand. "
   ]
  },
  {
   "cell_type": "markdown",
   "id": "7f0b56f2-f0d6-4546-a1e4-114ed00eb085",
   "metadata": {},
   "source": [
    "#### Example 1 (Impossibility when Mean valuations are equal)\n",
    "\n",
    "- Suppose that $V_{0} ~ U(0,2)$ and $V_{1} ~ Exp(1)$.\n",
    "- We find that 1-fairness in price and demend can be simultaneously satisfied when $\\color{Red}{p = 1.594}$\n",
    "- First, we check the statement! "
   ]
  },
  {
   "cell_type": "markdown",
   "id": "593822d2-b4e4-43b9-8eba-9a89247d1d92",
   "metadata": {},
   "source": [
    "### Find Optimal $p = p_{0} = p_{1}$\n",
    "\n",
    "- First, to satisfy 1-fairness in price and demand simultaneously, the following equation must hold.\n",
    "$$ d_{0} * \\bar{F}_{0}(p_0) = d_{1} * \\bar{F}_{1}(p_1)  $$\n",
    "- where $d_{0}$ and $d_{1}$ are the population sizes of each group, and $\\bar{F}_{i}(p_i)$ is the market share of each group. For this problem, we assume that $d_{0} = d_{1} = 1$. Also, the buyer valuation of group 0 is given by $V_{0} \\sim U(0,2)$ and the buyer valuation of group 1 is given by $V_{1} \\sim Exp(1)$.\n",
    "\n",
    "\n",
    "- then, we need to calculate $\\bar{F}_{i}(p_i)$. The Cumulative distribution function $F_{i}(p_{i})$ for each group is as follows:\n",
    "    - $F_{0}(p_{0}) = (p_{0} - 0) / (2-0)$ for $0 <= p_{0} <= 2$\n",
    "    - $F_{1}(p_{1}) = 1- exp(-p_{1})$ for $p_{1} >= 0$\n",
    "    \n",
    "    \n",
    "- The market share is the excursion of the cumulative distribution function for each group.\n",
    "    - $F_{0}(p_{0}) = 1 - F_{0}(p_0) = 1 - (p_{0}/ 2)$\n",
    "    - $F_{1}(p_{1}) = 1 - F_{1}(p_1) = exp(-p_{1})$\n",
    "\n",
    "- Now we can find $p_0$ and $p_1$ that satisfy the given condition.\n",
    "    - $F_{0}(p_{0}) = F_{1}(p_{1})$"
   ]
  },
  {
   "cell_type": "code",
   "execution_count": 2,
   "id": "8d959978-7546-4036-8961-d3d4cfe3f39a",
   "metadata": {},
   "outputs": [
    {
     "name": "stdout",
     "output_type": "stream",
     "text": [
      "Optimal p_0: 1.593625433301318\n",
      "Optimal p_1: 1.5936271471783612\n"
     ]
    }
   ],
   "source": [
    "import numpy as np\n",
    "from scipy.optimize import minimize_scalar\n",
    "\n",
    "def market_share_group_0(p_0):\n",
    "    return 1 - (p_0 / 2)\n",
    "\n",
    "def market_share_group_1(p_1):\n",
    "    return np.exp(-p_1)\n",
    "\n",
    "def objective_function(p_0):\n",
    "    p_1 = -np.log(market_share_group_0(p_0))\n",
    "    return abs(p_0 - p_1)\n",
    "\n",
    "result = minimize_scalar(objective_function, bounds=(0, 2), method=\"bounded\")\n",
    "\n",
    "p_0_optimal = result.x\n",
    "p_1_optimal = -np.log(market_share_group_0(p_0_optimal))\n",
    "\n",
    "print(f\"Optimal p_0: {p_0_optimal}\")\n",
    "print(f\"Optimal p_1: {p_1_optimal}\")"
   ]
  },
  {
   "cell_type": "code",
   "execution_count": null,
   "id": "c00d9987-802e-4ad1-91c5-409bf0324712",
   "metadata": {},
   "outputs": [],
   "source": []
  }
 ],
 "metadata": {
  "kernelspec": {
   "display_name": "bigcon",
   "language": "python",
   "name": "bigcon"
  },
  "language_info": {
   "codemirror_mode": {
    "name": "ipython",
    "version": 3
   },
   "file_extension": ".py",
   "mimetype": "text/x-python",
   "name": "python",
   "nbconvert_exporter": "python",
   "pygments_lexer": "ipython3",
   "version": "3.8.13"
  }
 },
 "nbformat": 4,
 "nbformat_minor": 5
}
